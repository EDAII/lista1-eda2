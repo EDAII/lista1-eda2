{
 "cells": [
  {
   "cell_type": "markdown",
   "metadata": {},
   "source": [
    "Implementando busca sequêncial e binário com acesso em arquivo, evidênciando os ganhos de velocidade da busca binária"
   ]
  },
  {
   "cell_type": "code",
   "execution_count": 1,
   "metadata": {},
   "outputs": [],
   "source": [
    "import os\n",
    "import sys\n",
    "import timeit"
   ]
  },
  {
   "cell_type": "code",
   "execution_count": 2,
   "metadata": {},
   "outputs": [],
   "source": [
    "def create_archive(size):\n",
    "    \n",
    "    file_asc = open('file_asc.txt','w') \n",
    "   \n",
    "\n",
    "    for aux_asc in range(size):\n",
    "\n",
    "        file_asc.write(str(aux_asc)+'\\n')\n",
    "        aux_asc+=1\n",
    "\n",
    "    file_asc.close()"
   ]
  },
  {
   "cell_type": "code",
   "execution_count": 3,
   "metadata": {},
   "outputs": [],
   "source": [
    "def sequencial_search(key):\n",
    "\n",
    "    file = open('file_asc.txt','r') \n",
    "\n",
    "    for line in file.readlines():\n",
    "        if (line == key+'\\n'): \n",
    "            break"
   ]
  },
  {
   "cell_type": "code",
   "execution_count": 4,
   "metadata": {},
   "outputs": [],
   "source": [
    "def binary_search(key, size):\n",
    "\n",
    "    found = False\n",
    "\n",
    "    file = open('file_asc.txt','r') \n",
    "    first = 0\n",
    "    last = size -1\n",
    "\n",
    "    while first <= last and not found:\n",
    "        midpoint = (first + last)//2\n",
    "\n",
    "        if file.readline(midpoint) == key+'\\n':\n",
    "            found = True\n",
    "        else:\n",
    "            if key < file.readline(midpoint):\n",
    "                last = midpoint-1\n",
    "            else:\n",
    "                first = midpoint+1"
   ]
  },
  {
   "cell_type": "code",
   "execution_count": 5,
   "metadata": {},
   "outputs": [],
   "source": [
    "file_size = 100\n",
    "create_archive(file_size)"
   ]
  },
  {
   "cell_type": "code",
   "execution_count": 6,
   "metadata": {},
   "outputs": [
    {
     "name": "stdout",
     "output_type": "stream",
     "text": [
      "45 µs ± 2.88 µs per loop (mean ± std. dev. of 7 runs, 10000 loops each)\n",
      "46.3 µs ± 2.13 µs per loop (mean ± std. dev. of 7 runs, 10000 loops each)\n",
      "47.8 µs ± 910 ns per loop (mean ± std. dev. of 7 runs, 10000 loops each)\n"
     ]
    }
   ],
   "source": [
    "min_ = '10' \n",
    "mid_ = '50'\n",
    "max_ = '90'\n",
    "\n",
    "%timeit sequencial_search(min_)\n",
    "%timeit sequencial_search(mid_)\n",
    "%timeit sequencial_search(max_)"
   ]
  },
  {
   "cell_type": "code",
   "execution_count": 7,
   "metadata": {},
   "outputs": [
    {
     "name": "stdout",
     "output_type": "stream",
     "text": [
      "38.4 µs ± 2.64 µs per loop (mean ± std. dev. of 7 runs, 10000 loops each)\n",
      "37.7 µs ± 1.24 µs per loop (mean ± std. dev. of 7 runs, 10000 loops each)\n",
      "37.6 µs ± 776 ns per loop (mean ± std. dev. of 7 runs, 10000 loops each)\n"
     ]
    }
   ],
   "source": [
    "%timeit binary_search(min_, file_size)\n",
    "%timeit binary_search(mid_, file_size)\n",
    "%timeit binary_search(max_, file_size)"
   ]
  },
  {
   "cell_type": "code",
   "execution_count": 8,
   "metadata": {},
   "outputs": [],
   "source": [
    "file_size = 1000\n",
    "create_archive(file_size)"
   ]
  },
  {
   "cell_type": "code",
   "execution_count": 9,
   "metadata": {},
   "outputs": [
    {
     "name": "stdout",
     "output_type": "stream",
     "text": [
      "88.3 µs ± 860 ns per loop (mean ± std. dev. of 7 runs, 10000 loops each)\n",
      "116 µs ± 1.25 µs per loop (mean ± std. dev. of 7 runs, 10000 loops each)\n",
      "151 µs ± 7.07 µs per loop (mean ± std. dev. of 7 runs, 10000 loops each)\n"
     ]
    }
   ],
   "source": [
    "min_ = '100' \n",
    "mid_ = '500'\n",
    "max_ = '900'\n",
    "\n",
    "%timeit sequencial_search(min_)\n",
    "%timeit sequencial_search(mid_)\n",
    "%timeit sequencial_search(max_)"
   ]
  },
  {
   "cell_type": "code",
   "execution_count": 10,
   "metadata": {},
   "outputs": [
    {
     "name": "stdout",
     "output_type": "stream",
     "text": [
      "39.9 µs ± 1.04 µs per loop (mean ± std. dev. of 7 runs, 10000 loops each)\n",
      "40.9 µs ± 1.28 µs per loop (mean ± std. dev. of 7 runs, 10000 loops each)\n",
      "41.5 µs ± 1.21 µs per loop (mean ± std. dev. of 7 runs, 10000 loops each)\n"
     ]
    }
   ],
   "source": [
    "%timeit binary_search(min_, file_size)\n",
    "%timeit binary_search(mid_, file_size)\n",
    "%timeit binary_search(max_, file_size)"
   ]
  },
  {
   "cell_type": "code",
   "execution_count": 11,
   "metadata": {},
   "outputs": [],
   "source": [
    "file_size = 100000\n",
    "\n",
    "create_archive(file_size)"
   ]
  },
  {
   "cell_type": "code",
   "execution_count": 12,
   "metadata": {},
   "outputs": [
    {
     "name": "stdout",
     "output_type": "stream",
     "text": [
      "8.32 ms ± 677 µs per loop (mean ± std. dev. of 7 runs, 100 loops each)\n",
      "10.9 ms ± 354 µs per loop (mean ± std. dev. of 7 runs, 100 loops each)\n",
      "13.5 ms ± 221 µs per loop (mean ± std. dev. of 7 runs, 100 loops each)\n"
     ]
    }
   ],
   "source": [
    "min_ = '10000' \n",
    "mid_ = '50000'\n",
    "max_ = '90000'\n",
    "\n",
    "%timeit sequencial_search(min_)\n",
    "%timeit sequencial_search(mid_)\n",
    "%timeit sequencial_search(max_)"
   ]
  },
  {
   "cell_type": "code",
   "execution_count": 13,
   "metadata": {},
   "outputs": [
    {
     "name": "stdout",
     "output_type": "stream",
     "text": [
      "44.7 µs ± 636 ns per loop (mean ± std. dev. of 7 runs, 10000 loops each)\n",
      "45.1 µs ± 719 ns per loop (mean ± std. dev. of 7 runs, 10000 loops each)\n",
      "46.4 µs ± 1.66 µs per loop (mean ± std. dev. of 7 runs, 10000 loops each)\n"
     ]
    }
   ],
   "source": [
    "%timeit binary_search(min_, file_size)\n",
    "%timeit binary_search(mid_, file_size)\n",
    "%timeit binary_search(max_, file_size)"
   ]
  }
 ],
 "metadata": {
  "kernelspec": {
   "display_name": "Python 3",
   "language": "python",
   "name": "python3"
  },
  "language_info": {
   "codemirror_mode": {
    "name": "ipython",
    "version": 3
   },
   "file_extension": ".py",
   "mimetype": "text/x-python",
   "name": "python",
   "nbconvert_exporter": "python",
   "pygments_lexer": "ipython3",
   "version": "3.5.4rc1"
  }
 },
 "nbformat": 4,
 "nbformat_minor": 2
}

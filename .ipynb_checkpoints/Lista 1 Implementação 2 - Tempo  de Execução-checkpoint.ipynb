{
 "cells": [
  {
   "cell_type": "code",
   "execution_count": 1,
   "metadata": {},
   "outputs": [],
   "source": [
    "import os\n",
    "import sys\n",
    "import timeit"
   ]
  },
  {
   "cell_type": "code",
   "execution_count": 2,
   "metadata": {},
   "outputs": [],
   "source": [
    "def create_archive(size):\n",
    "    \n",
    "    file_asc = open('file_asc.txt','w') \n",
    "   \n",
    "\n",
    "    for aux_asc in range(size):\n",
    "\n",
    "        file_asc.write(str(aux_asc)+'\\n')\n",
    "        aux_asc+=1\n",
    "\n",
    "    file_asc.close()"
   ]
  },
  {
   "cell_type": "code",
   "execution_count": 3,
   "metadata": {},
   "outputs": [],
   "source": [
    "def sequencial_search(key):\n",
    "\n",
    "    file = open('file_asc.txt','r') \n",
    "\n",
    "    for line in file.readlines():\n",
    "        if (line == key+'\\n'): \n",
    "            break"
   ]
  },
  {
   "cell_type": "code",
   "execution_count": 4,
   "metadata": {},
   "outputs": [],
   "source": [
    "def binary_search(key, size):\n",
    "\n",
    "    found = False\n",
    "\n",
    "    file = open('file_asc.txt','r') \n",
    "    first = 0\n",
    "    last = size -1\n",
    "\n",
    "    while first <= last and not found:\n",
    "        midpoint = (first + last)//2\n",
    "\n",
    "        if file.readline(midpoint) == key+'\\n':\n",
    "            found = True\n",
    "        else:\n",
    "            if key < file.readline(midpoint):\n",
    "                last = midpoint-1\n",
    "            else:\n",
    "                first = midpoint+1"
   ]
  },
  {
   "cell_type": "code",
   "execution_count": 5,
   "metadata": {},
   "outputs": [],
   "source": [
    "file_size = 100\n",
    "create_archive(file_size)"
   ]
  },
  {
   "cell_type": "code",
   "execution_count": 6,
   "metadata": {},
   "outputs": [
    {
     "name": "stdout",
     "output_type": "stream",
     "text": [
      "41.6 µs ± 1.83 µs per loop (mean ± std. dev. of 7 runs, 10000 loops each)\n",
      "42.4 µs ± 628 ns per loop (mean ± std. dev. of 7 runs, 10000 loops each)\n",
      "47.1 µs ± 1.26 µs per loop (mean ± std. dev. of 7 runs, 10000 loops each)\n"
     ]
    }
   ],
   "source": [
    "min_ = '10' \n",
    "mid_ = '50'\n",
    "max_ = '90'\n",
    "\n",
    "%timeit sequencial_search(min_)\n",
    "%timeit sequencial_search(mid_)\n",
    "%timeit sequencial_search(max_)"
   ]
  },
  {
   "cell_type": "code",
   "execution_count": 7,
   "metadata": {},
   "outputs": [
    {
     "name": "stdout",
     "output_type": "stream",
     "text": [
      "36.8 µs ± 1.36 µs per loop (mean ± std. dev. of 7 runs, 10000 loops each)\n",
      "36.9 µs ± 743 ns per loop (mean ± std. dev. of 7 runs, 10000 loops each)\n",
      "37.7 µs ± 2.34 µs per loop (mean ± std. dev. of 7 runs, 10000 loops each)\n"
     ]
    }
   ],
   "source": [
    "%timeit binary_search('10', 100)\n",
    "%timeit binary_search('50', 100)\n",
    "%timeit binary_search('90', 100)"
   ]
  },
  {
   "cell_type": "code",
   "execution_count": 8,
   "metadata": {},
   "outputs": [],
   "source": [
    "create_archive(1000)"
   ]
  },
  {
   "cell_type": "code",
   "execution_count": null,
   "metadata": {},
   "outputs": [],
   "source": [
    "%timeit sequencial_search('100')\n",
    "%timeit sequencial_search('500')\n",
    "%timeit sequencial_search('900')"
   ]
  },
  {
   "cell_type": "code",
   "execution_count": null,
   "metadata": {},
   "outputs": [],
   "source": [
    "%timeit binary_search('100', 1000)\n",
    "%timeit binary_search('500', 1000)\n",
    "%timeit binary_search('900', 1000)"
   ]
  },
  {
   "cell_type": "code",
   "execution_count": null,
   "metadata": {},
   "outputs": [],
   "source": [
    "create_archive(100000)"
   ]
  }
 ],
 "metadata": {
  "kernelspec": {
   "display_name": "Python 3",
   "language": "python",
   "name": "python3"
  },
  "language_info": {
   "codemirror_mode": {
    "name": "ipython",
    "version": 3
   },
   "file_extension": ".py",
   "mimetype": "text/x-python",
   "name": "python",
   "nbconvert_exporter": "python",
   "pygments_lexer": "ipython3",
   "version": "3.5.4rc1"
  }
 },
 "nbformat": 4,
 "nbformat_minor": 2
}
